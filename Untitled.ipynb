{
 "cells": [
  {
   "cell_type": "code",
   "execution_count": null,
   "metadata": {},
   "outputs": [],
   "source": [
    "from konlpy.tag import Okt\n",
    "import csv\n",
    "import pandas as pd\n",
    "import re\n",
    "nlpy = Okt()\n",
    "file = open('hashcode_classification2020_train.csv', 'r', encoding='utf-8')\n",
    "line = csv.reader(file)\n",
    "f = open(\"KoreanEnglish.txt\", 'w')\n",
    "for line_text in line:\n",
    "    text=re.sub('[^a-zA-Z]',' ',line_text[0]+line_text[1]).strip()\n",
    "    temp=text.split(' ')\n",
    "    for i in range(len(temp)):\n",
    "        if len(temp[i])==1:\n",
    "            temp[i]=''\n",
    "    temp = list(filter(None, temp))\n",
    "    temp=list(set(temp))\n",
    "    s=' '.join(temp)\n",
    "    f.write(s+' '+' '.join(nlpy.nouns(line_text[0]+line_text[1]))+','+line_text[2])\n",
    "    f.write('\\n')\n",
    "f.close()"
   ]
  },
  {
   "cell_type": "code",
   "execution_count": 2,
   "metadata": {},
   "outputs": [
    {
     "name": "stdout",
     "output_type": "stream",
     "text": [
      "['이', '시발']\n"
     ]
    }
   ],
   "source": [
    "from konlpy.tag import Okt\n",
    "nlpy = Okt()\n",
    "print(nlpy.nouns('야 이 시발'))"
   ]
  },
  {
   "cell_type": "code",
   "execution_count": null,
   "metadata": {},
   "outputs": [],
   "source": []
  }
 ],
 "metadata": {
  "kernelspec": {
   "display_name": "Python 3",
   "language": "python",
   "name": "python3"
  },
  "language_info": {
   "codemirror_mode": {
    "name": "ipython",
    "version": 3
   },
   "file_extension": ".py",
   "mimetype": "text/x-python",
   "name": "python",
   "nbconvert_exporter": "python",
   "pygments_lexer": "ipython3",
   "version": "3.7.3"
  }
 },
 "nbformat": 4,
 "nbformat_minor": 2
}
